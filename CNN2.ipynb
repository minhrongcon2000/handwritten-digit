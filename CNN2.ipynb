{
 "cells": [
  {
   "cell_type": "markdown",
   "metadata": {
    "colab_type": "text",
    "id": "i_adQbuFAy94"
   },
   "source": [
    "# Convolutional Neural Network In Handwritten Digit Recognition\n",
    "## I. Introduction\n",
    "\n",
    "Artificial Neural Network (ANN) has become more and more popular in AI community nowadays since it outperforms every machine learning model in most of the task at any moment. The idea of ANN is taken from the model of human brain.\n",
    "\n",
    "\n",
    "![The model of human brain](https://upload.wikimedia.org/wikipedia/commons/4/44/Neuron3.png)\n",
    "\n",
    "Human's brain consists of a large number of neurons. Each neuron is made up of dendrite, myelinated axon, and axon and every neuron is connected to each other by the rule that the axon of one neuron connects to the dendrite of another neuron. When there is a signal from the environment (a rise in temperature, for example), the brain provides and transmits a signal to the dendrite of a neuron that is closest to the brain. Then, the signal will undergo some transformation by the myelinated axon and finally, get out of it through axon. The proceeded will then be absorbed by the dendrite of another axon and the process will be repeated until the brain signal reach the targeted tissue (maybe our skin, for example).\n",
    "\n",
    "The model of ANN is originated by this idea. By replacing the terminology, basic Artificial Neural Network has three types of layers: \n",
    "* One input layer\n",
    "* One output layer\n",
    "* Some hidden layers\n",
    "\n",
    "![alt text](https://www.researchgate.net/profile/Martin_Musiol/publication/308414212/figure/fig1/AS:409040078295040@1474534162122/A-general-model-of-a-deep-neural-network-It-consists-of-an-input-layer-some-here-two.png)\n",
    "\n",
    "The input layer acts like dendrite, whose function is to receive the input data, and the output layer acts like axon, whose function is to produce the appropriate output, or, in the context of Artificial Neural Network, to produce the prediction. The hidden layer acts like myelinated axon and is the topic of a lot of researches since it is the major factor that can affect the performance of a neural network. Deep Learning is a sub-field of Machine Learning which focuses only on Artificial Neural Network, specifically its hidden layer. The field has become more and more dynamic recently thanks to the exponential rise in the amount of data and the improvement in computing power, which is crucial for all kinds of neural network. As a result, the number of the field's research papers surges, giving birth to a lot of variation of basic neural network, one of which is Convolutional Neural Network (CNN), which is a powerful tool in image processing task such as image classification, object detection, facial detection.\n",
    "\n",
    "The idea of convolutional neural network came out by the work of the two psychologists, David H. Hubel and Torsten N. Wiesels in the 1950s and 1960s. They discover that the coretexes of cat and monkey only respond to a small region of the world within their visual field, which they called receptive field. \n",
    "\n",
    "![Receptive field](http://www.yorku.ca/eye/cortrfld.gif)\n",
    "\n",
    "Therefore, in order to understand the whole world, all living creatures, including human, have to move their eye, which leads to the change in the receptive field. Through each movement of the receptive field, the eye catches the receptive field and proceeds it in the way that only the brain can understand, and inject it into the visual cortex. The visual cortex then synthesizes all the information about each receptive field and put it together to provide the necessary information to the brain (the text that we read right now, for example).\n",
    "\n",
    "Taking this idea, in 1998, a computer scientist named Yan Lecun and his team published the first convolutional neural network called LeNet-5.\n",
    "\n",
    "![Le-Net 5](https://ask.qcloudimg.com/http-save/yehe-1881084/f3xo7y48br.png?imageView2/2/w/1620)\n",
    "\n",
    "According to his paper, the accuracy of the new kind of neural network is 99%, which outperformed every other kinds of neural network at the time. In 2012, another team led by a computer scientist Alex Krizhevsky re-used the convolutional neural network in a competition called ImageNet, a competition organized anually for scientist to test their model's performance. He called his model AlexNet and proved that convolutional neural network was a powerful tool in the task of image classification by showing that AlexNet could classify everything with the accuracy of 85%. Since the fantastic event, Google, Facebook, and other technological companies have used convolutional neural network as a major tool in tasks related to images.\n",
    "\n",
    "![AlexNet](https://jeremykarnowski.files.wordpress.com/2015/07/alexnet2.png)\n",
    "\n",
    "In this notebook, the author will demonstrate what is convolutional neural network, as well as its effects by using the classical model LeNet5, built by Yan Lecunn's team in the introductory paper about convolutional neural network. The author has tried to build the model from scratch; however, it quite slow and is not optimized for large dataset. Nontheless, the author will leave the model built from scratch in GitHub files so that the readers could try to implement it by themselves.\n",
    "\n",
    "## II. The Component of Convolutional Neural Network:\n",
    "### 1. Layers:\n",
    "The most important component of convolutional neural network in specific and of neural network in general is its layers, specifically its hidden layers. Convolutional neural network has three types of hidden layer: convolutional layer, pooling layer, and fully-connected layer.\n",
    "\n",
    "#### a. Convolutional layer:\n",
    "The core of the convolutional layer is an operation called element-wise. Assume that an input image with a size of $n_H$ x $n_W$ x $n_C$, where:\n",
    "* $n_H$ is the height of the image\n",
    "* $n_W$ is the width of the image\n",
    "* $n_C$ is the 'depth' of the image (or the channel of the image)\n",
    "\n",
    "According to the research of Yan Lecun, a filter with a size $f$ x $f$ x $n_C$ ($n_C$ here is also the channel of the image) is applied onto the region which is at the left corner of the image and has the same size as the filter. Each pixel in that region is then multiplied by the relevant pixel in the filter (illustrated as the image below). Afterwards, we take the sum of all the results and put it in the first position of the feature map. This operation is called element-wise, denote by the symbol \"$*$\". From now on, when we apply element-wise operation onto two matrices $A$ and $B$, or we could say $A$ convolved with $B$, we would write $A*B$. After the element-wise operation, the filter is slided some steps to another region of image and repeat the same process.\n",
    "\n",
    "![alt text](https://cdn-images-1.medium.com/max/1600/1*ZCjPUFrB6eHPRi4eyP6aaA.gif)\n",
    "\n",
    "All the operation listed above is called the convolutional layer. Its function is to proceed the receptive field by a filter so that the system can evaluate with pixel is important and which is not. The output of the convolutional layer is called the feature map. We can use more than one filter in this process to increase the accuracy. The result of each filter will be saved as one channel of the output volume.\n",
    "\n",
    "#### b. Pooling layer:\n",
    "Pooling layer is the layer that is used to take the most important information based on some criteria. The most popular pooling layer recently are the max-pooling layer and the average-pooling layer. \n",
    "\n",
    "The function of the max-pooling layer is to take the most relevant information of a given feature map. The operation in similar to the process of the convolutional layer. The main difference here is that max-pooling filter does not have any weights. In other words, it just takes the maximum pixel of the feature map in terms of mathematics. Furthermore, if, instead of taking the maximum pixel value, the pooling layer treat each pixel equally by take the average pixel in its receptive field, it is called the average-pooling layer. However, the average pooling is less popular than the max-pooling one nowadays. The following figure will illustrate the pooling layer:\n",
    "\n",
    "![alt text](https://mauriciocodesso.com/img/convolution/maxpooling.gif)\n",
    "\n",
    "#### c. Fully-connected layer:\n",
    "Fully-connected layer is just the basic neural network, its function is to estimate the probalistic value and provide prediction.\n",
    "\n",
    "### 2. Hyperparameters:\n",
    "Hyperparameters are number that is not a weight but can affect the performance of the learning algorithm. As far as you can see, the number of layer in a basic neural network is one example of hyperparameters. In the context of convolutional neural network, besides the hyperparameters the convolutional neural network inherits from the basic neural network, it also has some additional hyperparameters.\n",
    "\n",
    "#### a. Padding number:\n",
    "Padding number is number used to describe the 'extension' of the image.\n",
    "\n",
    "![all text](http://deeplearning.net/software/theano_versions/dev/_images/numerical_padding_strides.gif)\n",
    "\n",
    "The above figure shows the convolutional layer in the padded image. All the '0's at the edge of the original image is the padding part, causing the intuition that the image is 'extended' with '0's\n",
    "\n",
    "The purpose of padding image is to minimize the informational loss. If an image is not padded before a convolutional layer applies onto it, the result of convolutional layer may not be accuracy enough in some cases since they may lose information on the edge of the image (edge position is passed only once by the convolutional layer). There are two common choice of padding number:\n",
    "* Same padding is the padding number is chosen such that the output volume is the same as the input volume.\n",
    "* Valid padding means no padding at all (or padding number is 0).\n",
    "\n",
    "Padding seems very useful in the inception layer, which is an essential part of GooLeNet.\n",
    "#### b. Stride:\n",
    "Stride is the number of step that convolutional layer or a pooling layer slides after each operation. If the stride is too large, the computational cost is low but the performance of the model is hurt since it skips through a lot of important information. If the stride is too small, the performance of the model is pretty good, but the complexity of the model is relatively high.\n",
    "\n",
    "Taking the illustration in the part related to the convolution layer as an example, after finishing each operation, it slides through one pixel column, so its stride value is 1. Usually, pooling layer will have the stride of 2 since we want to divide the image into disjoint regions before applying pooling layer onto them.\n",
    "### 4. Activation function:\n",
    "The most popular activation function used in convolutional neural network is retified linear unit or ReLU. The ReLU function is expressed as follow:\n",
    "$$f(x)=max\\{0,x\\}$$\n",
    "\n",
    "ReLU has been widely in use since 2011 as it allows deeper neural network with the least possibility of overfitting issue. However, ReLU does not perform probalistic prediction. Hence, at the last layer, we have to use a function called softmax. Given a vector $z\\in\\mathbb{R}^m$, a softmax function of that vector is defined as follows:\n",
    "$$softmax:\\mathbb{R}^m\\rightarrow\\mathbb{R}^m:\\\\ softmax(z_j)=\\dfrac{e^{z_j}}{\\sum_{j=1}^{m}e^{z_j}}$$\n",
    "where $z_j$ is an element of vector $z$.\n",
    "### 5. Loss function:\n",
    "Our loss function is the famous cross entropy or log loss:\n",
    "$$error=\\dfrac{1}{m}\\sum_{i=1}^{m}\\sum_{k=1}^{s_L}-y^{(i)}_k*\\log (a^{[L]}_{k,i})$$\n",
    "where,\n",
    "* $m$ is the number of training examples\n",
    "* $s_L$ is the number of unit in the output layer\n",
    "* $a^{[L]}_{j,i}$ is the output at the $i^{th}$ row and  $j^{th}$ column.\n",
    "* $y^{[i]}_j$ is the label at the $i^{th}$ row and  $j^{th}$ column.  "
   ]
  },
  {
   "cell_type": "markdown",
   "metadata": {},
   "source": [
    "## III. Architecture and Training Procedure:\n",
    "Here is the LeNet5 model that we will build.\n",
    "\n",
    "![Le-Net 5](https://ask.qcloudimg.com/http-save/yehe-1881084/f3xo7y48br.png?imageView2/2/w/1620)\n",
    "\n",
    "*The image is taken from a [video](https://www.coursera.org/learn/convolutional-neural-networks) in Week 2 of the Convolutional Neural Network lecture by AndrewNg, so definitely check that out.*"
   ]
  },
  {
   "cell_type": "code",
   "execution_count": 1,
   "metadata": {
    "colab": {
     "base_uri": "https://localhost:8080/",
     "height": 34
    },
    "colab_type": "code",
    "id": "BEYKkw1w6B-1",
    "outputId": "fde005a4-c7b2-45a7-b31b-6dd1f9c28e3a"
   },
   "outputs": [
    {
     "name": "stderr",
     "output_type": "stream",
     "text": [
      "Using TensorFlow backend.\n"
     ]
    }
   ],
   "source": [
    "#import dependencies\n",
    "import tensorflow as tf\n",
    "import numpy as np\n",
    "import matplotlib.pyplot as plt\n",
    "from keras.utils import np_utils"
   ]
  },
  {
   "cell_type": "markdown",
   "metadata": {},
   "source": [
    "The dataset I used is MNIST created by Yann Lecun. This dataset has 60000 training examples and 10000 testing examples. Each example comtains a 28x28 image of a hand-written digit from 0 to 9 and its label. "
   ]
  },
  {
   "cell_type": "code",
   "execution_count": 2,
   "metadata": {
    "colab": {
     "base_uri": "https://localhost:8080/",
     "height": 51
    },
    "colab_type": "code",
    "id": "RBqU3kuP6UVC",
    "outputId": "2851423b-a974-4fca-c63f-46e7f8dc740d"
   },
   "outputs": [],
   "source": [
    "#loading data\n",
    "(xtrain,ytrain),(xtest,ytest) = tf.keras.datasets.mnist.load_data()"
   ]
  },
  {
   "cell_type": "code",
   "execution_count": 3,
   "metadata": {
    "colab": {
     "base_uri": "https://localhost:8080/",
     "height": 347
    },
    "colab_type": "code",
    "id": "ng55eWeB6cxA",
    "outputId": "39bcb433-2e07-4998-d571-ba0fa93187b7"
   },
   "outputs": [
    {
     "data": {
      "image/png": "[encoded data removed]",
      "text/plain": [
       "<Figure size 432x288 with 1 Axes>"
      ]
     },
     "metadata": {
      "needs_background": "light"
     },
     "output_type": "display_data"
    }
   ],
   "source": [
    "plt.imshow(xtrain[0])\n",
    "plt.show()"
   ]
  },
  {
   "cell_type": "code",
   "execution_count": 4,
   "metadata": {
    "colab": {
     "base_uri": "https://localhost:8080/",
     "height": 34
    },
    "colab_type": "code",
    "id": "RC19CJO86gen",
    "outputId": "ba23c6e3-1b1f-45dc-bd7c-f91c5aa5b828"
   },
   "outputs": [
    {
     "name": "stdout",
     "output_type": "stream",
     "text": [
      "5\n"
     ]
    }
   ],
   "source": [
    "print(ytrain[0])"
   ]
  },
  {
   "cell_type": "markdown",
   "metadata": {},
   "source": [
    "Before the training process actually begins, we have to pre-processing the data so that it does not have any bugs in the training process. If we get the shape of the training image, we will realize that our computer will provide that the image has the shape of 28 by 28 instead of 28 by 28 by 1. This is because all images in the datasets are grayscale images, not RGB images. Hence, our first step is to reshape the training images to the appropriate form. "
   ]
  },
  {
   "cell_type": "code",
   "execution_count": 5,
   "metadata": {
    "colab": {
     "base_uri": "https://localhost:8080/",
     "height": 34
    },
    "colab_type": "code",
    "id": "LJI4b9xM6ilX",
    "outputId": "96a258a7-1610-4242-84e7-db48d9932b8c"
   },
   "outputs": [],
   "source": [
    "xtrain = xtrain.reshape(xtrain.shape[0],xtrain.shape[1],xtrain.shape[2],1)\n",
    "xtest = xtest.reshape(xtest.shape[0],xtest.shape[1],xtest.shape[2],1)"
   ]
  },
  {
   "cell_type": "markdown",
   "metadata": {},
   "source": [
    "It is also necessary to preprocess the labels. Each label in the datasets is represented by a number ranging from 0 to 9 corresponding to the image. But there is a problem with this way of labelling: it has a property of comparison. Assuming that you label an image of digit 8 as 8 and of digit 7 as 7, if 7 is less than 8, is it true that the image with digit 7 is less than an image with digit 8? The answer is no since there is no ordinal relationships in this context. However, our computer may trust this misleading thing, so we need another representation that do not have a property of comparison. The best way to do this is to use the one-hot encoding technique. In this technique, an integer label is converted into a vector label with the number of elements equal to the integer that the label represented where only one relevant element is labeled as 1 and other elements are labeled as 0. For instance, the one-hot encoding technique changes label '5' into label vector $[0,0,0,0,0,1,0,0,0,0,0,0]$, and label '9' into label vector $[0,0,0,0,0,0,0,0,0,1]$."
   ]
  },
  {
   "cell_type": "code",
   "execution_count": 6,
   "metadata": {},
   "outputs": [
    {
     "name": "stdout",
     "output_type": "stream",
     "text": [
      "Before:  5\n",
      "After:  [0. 0. 0. 0. 0. 1. 0. 0. 0. 0.]\n"
     ]
    }
   ],
   "source": [
    "print('Before: ',ytrain[0])\n",
    "ytrain = np_utils.to_categorical(ytrain,10)\n",
    "ytest = np_utils.to_categorical(ytest,10)\n",
    "print('After: ', ytrain[0])"
   ]
  },
  {
   "cell_type": "markdown",
   "metadata": {},
   "source": [
    "Finally, the feature value (the pixel values) has to be normalized in order to boost the performance of the model. This is done by dividing all the pixel values by 255 to scale up those values between 0 and 1."
   ]
  },
  {
   "cell_type": "code",
   "execution_count": 7,
   "metadata": {
    "colab": {
     "base_uri": "https://localhost:8080/",
     "height": 34
    },
    "colab_type": "code",
    "id": "ZqctBZtb7B3U",
    "outputId": "ee628f87-17fc-4496-b442-279dc2ef5da7"
   },
   "outputs": [],
   "source": [
    "xtrain = xtrain/255.\n",
    "xtest = xtest/255."
   ]
  },
  {
   "cell_type": "markdown",
   "metadata": {},
   "source": [
    "We will build the LeNet5 model using the TensorFlow framework in order to get the basic understanding about how this model works. TensorFlow is a machine learning library built based on computational graphs. A computational graph is a graph used to represent operations. For example, the image below is the computational graph of additional operation.\n",
    "\n",
    "![computational graph](https://i.ytimg.com/vi/sNRCiBsYBwQ/maxresdefault.jpg)\n",
    "\n",
    "Computational graph built in TensorFlow can represent numerous operations, ranging from simple operations such as addition and subtraction to complicated operations such as integration and differentiation. Therefore, TensorFlow is so powerful that Google, the founder of that library, used it in most of their AI tasks, including the legendary AlphaGo. \n",
    "\n",
    "In Tensorflow, we have to build the computational graph before we can run it. Therefore, we will build the model first, then execute it. Firstly, we have to build placeholders, which is a node in the computational graph on which is used to feed data. We will provide two placeholders for feature vectors and label vectors (as shown below). The reason why we leave the first indices None is that in the future, there might be more data to feed on, leading to the increase in the first index. This means that we have to adjust the first indices each time those numbers chane. Hence, we leave this number None."
   ]
  },
  {
   "cell_type": "code",
   "execution_count": 8,
   "metadata": {
    "colab": {},
    "colab_type": "code",
    "id": "ibOJmzbt7ccC"
   },
   "outputs": [],
   "source": [
    "def create_placeholder(n_H,n_W,n_C,n_y):\n",
    "  X = tf.placeholder(tf.float32,[None,n_H,n_W,n_C])\n",
    "  y = tf.placeholder(tf.float32,[None,n_y])\n",
    "  return X,y"
   ]
  },
  {
   "cell_type": "markdown",
   "metadata": {},
   "source": [
    "After we create our placeholders, we need to create our variables. The first variable has the size of the first filter and the second one has the size of the second one."
   ]
  },
  {
   "cell_type": "code",
   "execution_count": 9,
   "metadata": {
    "colab": {},
    "colab_type": "code",
    "id": "3lOLZtiV8Mge"
   },
   "outputs": [],
   "source": [
    "def initial_variables():\n",
    "  tf.set_random_seed(1)\n",
    "  W1 = tf.get_variable('W1',[5,5,1,6])\n",
    "  W2 = tf.get_variable('W2',[5,5,6,16])\n",
    "  return W1,W2"
   ]
  },
  {
   "cell_type": "markdown",
   "metadata": {},
   "source": [
    "Now, it's time to build our model. For convenience, I will put the model again here.\n",
    "\n",
    "![Le-Net 5](https://ask.qcloudimg.com/http-save/yehe-1881084/f3xo7y48br.png?imageView2/2/w/1620)\n",
    "\n",
    "Now, as can be seen from the image, we have to apply six 5x5 filters onto the image (with stride 1 and padding number 0). Then, we apply an activation on it (ReLU in this case). Afterwards, we apply a 2x2 max-pooling layer onto the result with stride 2 and padding number 0. We repeat the process, but use sixteen 5x5 filters this time. Then, we flatten the result and put it into a fully-connected layer with one hidden layer that has 84 units and one output layer that has 10 classes (we will not apply the activation function in the last layer since this is done in a later process)."
   ]
  },
  {
   "cell_type": "code",
   "execution_count": 10,
   "metadata": {
    "colab": {},
    "colab_type": "code",
    "id": "iGxDc4-X9Bsw"
   },
   "outputs": [],
   "source": [
    "def forward_prop(image,W1,W2):\n",
    "  Z1 = tf.nn.conv2d(image,W1,strides=[1,1,1,1],padding='VALID') #The first 5x5 filter\n",
    "  A1 = tf.nn.relu(Z1) #First activation function\n",
    "  P1 = tf.nn.max_pool(A1,ksize=[1,2,2,1],strides=[1,1,1,1],padding='VALID') #The first max-pooling layer\n",
    "  \n",
    "  Z2 = tf.nn.conv2d(P1,W2,strides=[1,1,1,1],padding='VALID')\n",
    "  A2 = tf.nn.relu(Z2)\n",
    "  P2 = tf.nn.max_pool(A2,ksize=[1,2,2,1],strides=[1,1,1,1],padding='VALID')\n",
    "  \n",
    "  F2 = tf.contrib.layers.flatten(P2)\n",
    "  FC3 = tf.contrib.layers.fully_connected(F2,num_outputs=84)\n",
    "  Z4 = tf.contrib.layers.fully_connected(FC3,num_outputs=10,activation_fn=None)\n",
    "  \n",
    "  return Z4"
   ]
  },
  {
   "cell_type": "markdown",
   "metadata": {},
   "source": [
    "The last step to build our model is to define our loss function. This is when the last activation function is appled."
   ]
  },
  {
   "cell_type": "code",
   "execution_count": 11,
   "metadata": {
    "colab": {},
    "colab_type": "code",
    "id": "SoPyUMd4EtT1"
   },
   "outputs": [],
   "source": [
    "def logloss(Z4,y):\n",
    "  return tf.reduce_mean(tf.nn.softmax_cross_entropy_with_logits_v2(logits=Z4,labels=y))"
   ]
  },
  {
   "cell_type": "markdown",
   "metadata": {},
   "source": [
    "Now that we have finished building our model, it's time for training process. Our model will try to minimize the loss function by the Adam Optimization Algorithm."
   ]
  },
  {
   "cell_type": "code",
   "execution_count": 12,
   "metadata": {
    "colab": {},
    "colab_type": "code",
    "id": "0hiaRHULFySC"
   },
   "outputs": [],
   "source": [
    "def training(image,label,val,max_iter=20,batch_size=10,learning_rate=0.01):\n",
    "  tf.reset_default_graph()\n",
    "  m,n_H,n_W,n_C = image.shape\n",
    "  m,n_y = label.shape\n",
    "  xtest, ytest = val\n",
    "  \n",
    "  X,y = create_placeholder(n_H,n_W,n_C,n_y)\n",
    "  W1,W2 = initial_variables()\n",
    "  Z4 = forward_prop(X,W1,W2)\n",
    "  cost = logloss(Z4,y)\n",
    "  \n",
    "  optimizer = tf.train.AdamOptimizer(learning_rate).minimize(cost)\n",
    "  \n",
    "  init = tf.global_variables_initializer()\n",
    "  train_error = []\n",
    "  val_error = []\n",
    "  train_acc = []\n",
    "  val_acc = []\n",
    "  with tf.Session() as sess:\n",
    "    sess.run(init)\n",
    "    for i in range(max_iter):\n",
    "      total_train_loss = 0\n",
    "      total_train_acc = 0\n",
    "      for j in range(0,m,batch_size):\n",
    "        minibatchX, minibatchY = image[j:j+batch_size], label[j:j+batch_size]\n",
    "        sess.run(optimizer,feed_dict={X:minibatchX,y:minibatchY})\n",
    "        #use for loss visualization\n",
    "        train_loss = sess.run(cost,feed_dict={X:minibatchX,y:minibatchY})\n",
    "        total_train_loss += train_loss/batch_size\n",
    "        \n",
    "        #use for accuracy visualization\n",
    "        ##train acc visualization\n",
    "        train_pred = sess.run(Z4,feed_dict={X:minibatchX,y:minibatchY})\n",
    "        train_pred = tf.argmax(train_pred,1)\n",
    "        correct_train_pred = tf.equal(train_pred,tf.argmax(y,1))\n",
    "        train_accuracy = tf.reduce_sum(tf.cast(correct_train_pred,\"float\"))\n",
    "        total_train_acc += train_accuracy.eval({X:minibatchX, y:minibatchY})\n",
    "      \n",
    "      val_loss = sess.run(cost,feed_dict={X:xtest, y:ytest})\n",
    "      \n",
    "      val_pred = sess.run(Z4, feed_dict={X:xtest,y:ytest})\n",
    "      val_pred = tf.argmax(val_pred,1)\n",
    "      correct_val_pred = tf.equal(val_pred,tf.argmax(y,1))\n",
    "      val_accuracy = tf.reduce_sum(tf.cast(correct_val_pred,\"float\"))\n",
    "      \n",
    "      train_error.append(total_train_loss)\n",
    "      val_error.append(val_loss/xtest.shape[0])\n",
    "      train_acc.append(total_train_acc/image.shape[0])\n",
    "      val_acc.append(val_accuracy.eval({X:xtest,y:ytest})/xtest.shape[0])\n",
    "    #plot the loss of training and validation set\n",
    "    plt.plot(np.arange(1,1+len(train_error),1),train_error)\n",
    "    plt.plot(np.arange(1,1+len(val_error),1),val_error)\n",
    "    plt.xlabel('iteration')\n",
    "    plt.ylabel('cost')\n",
    "    plt.title('loss')\n",
    "    plt.show()\n",
    "    \n",
    "    plt.plot(np.arange(1,1+len(train_acc),1),train_acc)\n",
    "    plt.plot(np.arange(1,1+len(val_acc),1),val_acc)\n",
    "    plt.xlabel('iteration')\n",
    "    plt.ylabel('#correct predictions')\n",
    "    plt.title('accuracy')\n",
    "    plt.show()\n",
    "    print('Training accuracy: ',train_acc[len(train_acc)-1]*100)\n",
    "    print('Validation accuracy: ',val_acc[len(val_acc)-1]*100)\n",
    "  return W1,W2"
   ]
  },
  {
   "cell_type": "markdown",
   "metadata": {},
   "source": [
    "## III. Results and discussion\n",
    "Since I do not have my own computer and have to share with my father, I just do the training process in a subset of training example. I took 1000 first examples and trained the LeNet5 model on it, and evaluate it on the whole 10000 testing examples. The result seems positive: after 10 epochs, the loss function reached its minimum value whereas the training accuracy is 100% and the validation accuracy is 90.81%. I also tested my model on Keras library, which is famous for fast implementation, with the whole training set and testing set. The ideal result shows that if I have sufficient time, the model will have 99.32% accuracy on training set and 98.59% on testing set. These results show how efficient the convolutional neural network is in image processing task in general and hand-written digit recognition in specific."
   ]
  },
  {
   "cell_type": "code",
   "execution_count": 13,
   "metadata": {
    "colab": {},
    "colab_type": "code",
    "id": "EsNx8h5VOMkw"
   },
   "outputs": [
    {
     "data": {
      "image/png": "[encoded data removed]",
      "text/plain": [
       "<Figure size 432x288 with 1 Axes>"
      ]
     },
     "metadata": {
      "needs_background": "light"
     },
     "output_type": "display_data"
    },
    {
     "data": {
      "image/png": "[encoded data removed]",
      "text/plain": [
       "<Figure size 432x288 with 1 Axes>"
      ]
     },
     "metadata": {
      "needs_background": "light"
     },
     "output_type": "display_data"
    },
    {
     "name": "stdout",
     "output_type": "stream",
     "text": [
      "Training accuracy:  100.0\n",
      "Validation accuracy:  90.81\n",
      "CPU times: user 16min 17s, sys: 2min 40s, total: 18min 58s\n",
      "Wall time: 9min 53s\n"
     ]
    }
   ],
   "source": [
    "%%time\n",
    "val = (xtest, ytest)\n",
    "W1,W2 = training(xtrain[:1000],ytrain[:1000],val)"
   ]
  },
  {
   "cell_type": "markdown",
   "metadata": {},
   "source": [
    "## IV. Conclusion:\n",
    "In short, Convolutional Neural Network is a powerful tool in image processing task. The classical LeNet5 model is a strong evidence for this fact. With the explosion of open-source library such as TensorFlow and the improvement in computing power, Convolutional Neural Network promises to be the best tool in image classification tasks.\n",
    "\n",
    "## References:\n",
    "1. Convolutional Neural Network, deeplearning.ai, AndrewNg, https://www.coursera.org/learn/convolutional-neural-networks\n",
    "2. Convolutional Neural Networks - The Math of Intelligience (Week 4), https://www.youtube.com/watch?v=FTr3n7uBIuE&list=PL2-dafEMk2A7mu0bSksCGMJEmeddU_H4D&index=8\n",
    "3. TensorFlow, https://www.tensorflow.org\n",
    "4. Lecture 5|Convolutional Neural Networks by the University of Stanford, https://www.youtube.com/watch?v=bNb2fEVKeEo&t=1261s"
   ]
  }
 ],
 "metadata": {
  "accelerator": "GPU",
  "colab": {
   "collapsed_sections": [],
   "name": "Untitled3.ipynb",
   "provenance": [],
   "version": "0.3.2"
  },
  "kernelspec": {
   "display_name": "Python 3",
   "language": "python",
   "name": "python3"
  },
  "language_info": {
   "codemirror_mode": {
    "name": "ipython",
    "version": 3
   },
   "file_extension": ".py",
   "mimetype": "text/x-python",
   "name": "python",
   "nbconvert_exporter": "python",
   "pygments_lexer": "ipython3",
   "version": "3.6.6"
  }
 },
 "nbformat": 4,
 "nbformat_minor": 1
}
